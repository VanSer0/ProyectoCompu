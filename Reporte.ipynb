{
 "cells": [
  {
   "cell_type": "markdown",
   "id": "08340bc5",
   "metadata": {},
   "source": [
    "# Dinámica de sistemas cuánticos"
   ]
  },
  {
   "cell_type": "markdown",
   "id": "90a03307",
   "metadata": {},
   "source": [
    "Consideremos un sistema compuesto de $N$ espines 1/2, descrito por el `Hamiltonian` ($\\hbar = 1$):"
   ]
  },
  {
   "cell_type": "markdown",
   "id": "ed85bdcf",
   "metadata": {},
   "source": [
    "\\begin{equation}\n",
    "\\hat{H} = \\sum_{i=1}^{N-1} J\\hat{\\sigma}^z_i \\hat{\\sigma}^z_{i+1} + \\sum_{i=1}^N g\\hat{\\sigma}^x_i,\n",
    "\\end{equation}"
   ]
  },
  {
   "cell_type": "markdown",
   "id": "edd8083a",
   "metadata": {},
   "source": [
    "donde el primer término corresponde a una interacción de vecinos cercanos en la dirección $z$, mientras que el segundo término genera dinámica coherente entre los espines que componen el sistema. El `Hamiltonian` anterior es el Hamiltoniano del modelo de Ising cuántico de ferromagnetismo en una dimensión."
   ]
  },
  {
   "cell_type": "markdown",
   "id": "3aa172f6",
   "metadata": {},
   "source": [
    "Podemos construir el `Hamiltonian` denotado al inicio utilizando productos tensoriales de cada uno de los espacios de Hilbert que componen el sistema. Por ejemplo:\n",
    "\\begin{equation}\n",
    "\\\n",
    "\\hat{\\sigma}^z_1 = \\hat{\\sigma}^z \\otimes \\mathbb{1} \\otimes \\mathbb{1} \\otimes \\cdots \\otimes  \\mathbb{1} \\otimes \\mathbb{1} \\otimes \\mathbb{1}, \\\\\n",
    "\\\n",
    "\\hat{\\sigma}^z_2 = \\mathbb{1} \\otimes \\hat{\\sigma}^z \\otimes \\mathbb{1} \\otimes \\cdots \\otimes  \\mathbb{1} \\otimes \\mathbb{1} \\otimes \\mathbb{1}, \\\\\n",
    "\\\n",
    "\\hat{\\sigma}^z_3 = \\mathbb{1} \\otimes \\mathbb{1} \\otimes \\hat{\\sigma}^z \\otimes \\cdots \\otimes  \\mathbb{1} \\otimes \\mathbb{1} \\otimes \\mathbb{1}, \\\\\n",
    "\\\\\n",
    "\\vdots\n",
    "\\\\\n",
    "\\hat{\\sigma}^z_{N-2} = \\mathbb{1} \\otimes \\mathbb{1} \\otimes \\mathbb{1} \\otimes \\cdots \\otimes \\hat{\\sigma}^z \\otimes \\mathbb{1} \\otimes \\mathbb{1}, \\\\\n",
    "\\\n",
    "\\hat{\\sigma}^z_{N-1} = \\mathbb{1} \\otimes \\mathbb{1} \\otimes \\mathbb{1} \\otimes \\cdots \\otimes  \\mathbb{1} \\otimes \\hat{\\sigma}^z \\otimes \\mathbb{1}, \\\\\n",
    "\\\n",
    "\\hat{\\sigma}^z_{N} = \\mathbb{1} \\otimes \\mathbb{1} \\otimes \\mathbb{1} \\otimes \\cdots \\otimes  \\mathbb{1} \\otimes \\mathbb{1} \\otimes \\hat{\\sigma}^z \\\\\n",
    "\\\n",
    "\\end{equation}\n",
    "\n",
    "Donde:\n",
    "\n",
    "* $\\otimes$ corresponde al producto tensorial.\n",
    "\n",
    "* $\\mathbb{1}$ a la matrix identidad $2x2$.\n",
    "\n",
    "* $\\hat{\\sigma}^z$ es la matriz de Pauli en $z$ \n",
    "\n",
    "De esta forma se realizan $N-1$ productos tensoriales para el cálculo de cada $\\hat{\\sigma}^z_i$. Esto tambíen aplica para calcular los $\\hat{\\sigma}^x_i$\n",
    "\n",
    "Con la librería `QuTip` obtener fácilmente las matrices de Pauli de $z$ y $x$, además nos permite realizar el producto tensorial entre los elmentos de un arreglo de forma ordenada."
   ]
  },
  {
   "cell_type": "code",
   "execution_count": 30,
   "id": "42ed7659",
   "metadata": {},
   "outputs": [],
   "source": [
    "import qutip as qt # Librería QuTip: La principal funcionalidad que ocupamos de esta librería es la \n",
    "                   # función \"tensor\", la cual realiza el producto tensorial entre los elementos de un arreglo\n",
    "    \n",
    "import numpy as np # Librería Numpy: Para hacer productos punto y sumatoria de matrices"
   ]
  },
  {
   "cell_type": "markdown",
   "id": "28581b21",
   "metadata": {},
   "source": [
    "Para que `QuTip` pueda realizar el producto tensorial, los objetos del arreglo deben ser de tipo `Qobj`. Por esto las matrices de Pauli y la matriz identidad debemos definirlas con funciones de `Qutip`:"
   ]
  },
  {
   "cell_type": "code",
   "execution_count": 31,
   "id": "fade500e",
   "metadata": {},
   "outputs": [],
   "source": [
    "sx = qt.sigmax() # Pauli X\n",
    "sz = qt.sigmaz() # Pauli Z\n",
    "\n",
    "iden = qt.qeye(2) # Identidad de tamaño 2"
   ]
  },
  {
   "cell_type": "markdown",
   "id": "0a62f581",
   "metadata": {},
   "source": [
    "Y con éstas matrices podemos representar el `Hamiltoniano` utilizando el producto tensorial (`qt.tensor()`):"
   ]
  },
  {
   "cell_type": "code",
   "execution_count": 32,
   "id": "9de7289f",
   "metadata": {},
   "outputs": [],
   "source": [
    "# Calcule el Hamiltoniano del model de Ising usando productos tensoriales de las matrices de Pauli\n",
    "\n",
    "# Esta rutina debe devolver una matrix 2^Nx2^N que corresponde al modelo de Ising para N espines\n",
    "\n",
    "def hamiltonian(J, g, N):\n",
    "    \n",
    "    sigma_z = [0] * N  # Vectores donde se van a guardar los sigma^z_i y los sigma^x_i\n",
    "    sigma_x = [0] * N  # Se crean los arreglos de esta forma para evitar hacer \"append\"\n",
    "    \n",
    "    for i in range(N):\n",
    "        \n",
    "        sigma_zi = [0] * N  # Vectores donde se van a guardar las matrices 2x2 a las que se les va a\n",
    "        sigma_xi = [0] * N  # aplicar el producto tensorial\n",
    "        \n",
    "        for j in range(i):\n",
    "            \n",
    "            sigma_zi[j] = (iden)  # Se guardan las matrices identidad que van antes de la i-ésima posición\n",
    "            sigma_xi[j] = (iden)\n",
    "        \n",
    "        sigma_zi[i] = (sz)  # Se guarda la matriz de Pauli en la i-ésima posición\n",
    "        sigma_xi[i] = (sx)\n",
    "        \n",
    "        for k in range(i+1,N):\n",
    "                \n",
    "            sigma_zi[k] = (iden) # Se guardan las matrices identidad que van después de la i-ésima posición\n",
    "            sigma_xi[k] = (iden)\n",
    "        \n",
    "        sigma_z[i] = (qt.tensor(sigma_zi)) # Producto tensorial empezando en la primera posición hasta la\n",
    "        sigma_x[i] = (qt.tensor(sigma_xi)) # última posición de los elementos del vector sigma_zi\n",
    "        \n",
    "    \n",
    "    h_first = 0.0  # Primer término del hamiltoniano\n",
    "    h_second = 0.0 # Segundo término del hamiltoniano\n",
    "    \n",
    "    for i in range(N-1):\n",
    "\n",
    "        h_first += J*np.dot(sigma_z[i], sigma_z[i+1])\n",
    "\n",
    "    for i in range(N):\n",
    "\n",
    "        h_second += g*np.array(sigma_x[i])\n",
    "    \n",
    "    return np.real(h_first + h_second) # np.real es porque la parte imaginaria es 0 pero por alguna razón \n",
    "                                       # al pasar de un objeto \"Qobj\" a uno \"nparray\" añade los \" + 0j \"\n"
   ]
  },
  {
   "cell_type": "markdown",
   "id": "7134d184",
   "metadata": {},
   "source": [
    "La matriz es una $2^Nx 2^N$ que describe la dinámica interna del sistema:"
   ]
  },
  {
   "cell_type": "code",
   "execution_count": 33,
   "id": "2f79a46b",
   "metadata": {},
   "outputs": [
    {
     "name": "stdout",
     "output_type": "stream",
     "text": [
      "[[ 4.  1.  1.  0.  1.  0.  0.  0.]\n",
      " [ 1.  0.  0.  1.  0.  1.  0.  0.]\n",
      " [ 1.  0. -4.  1.  0.  0.  1.  0.]\n",
      " [ 0.  1.  1.  0.  0.  0.  0.  1.]\n",
      " [ 1.  0.  0.  0.  0.  1.  1.  0.]\n",
      " [ 0.  1.  0.  0.  1. -4.  0.  1.]\n",
      " [ 0.  0.  1.  0.  1.  0.  0.  1.]\n",
      " [ 0.  0.  0.  1.  0.  1.  1.  4.]]\n"
     ]
    }
   ],
   "source": [
    "N = 3\n",
    "\n",
    "print(hamiltonian(2.0, 1.0, N))"
   ]
  }
 ],
 "metadata": {
  "kernelspec": {
   "display_name": "Python 3 (ipykernel)",
   "language": "python",
   "name": "python3"
  },
  "language_info": {
   "codemirror_mode": {
    "name": "ipython",
    "version": 3
   },
   "file_extension": ".py",
   "mimetype": "text/x-python",
   "name": "python",
   "nbconvert_exporter": "python",
   "pygments_lexer": "ipython3",
   "version": "3.7.12"
  },
  "toc": {
   "base_numbering": 1,
   "nav_menu": {},
   "number_sections": true,
   "sideBar": true,
   "skip_h1_title": false,
   "title_cell": "Table of Contents",
   "title_sidebar": "Contents",
   "toc_cell": false,
   "toc_position": {},
   "toc_section_display": true,
   "toc_window_display": false
  }
 },
 "nbformat": 4,
 "nbformat_minor": 5
}
