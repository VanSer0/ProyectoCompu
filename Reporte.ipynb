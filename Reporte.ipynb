{
 "cells": [
  {
   "cell_type": "markdown",
   "id": "08340bc5",
   "metadata": {},
   "source": [
    "# Dinámica de sistemas cuánticos"
   ]
  },
  {
   "cell_type": "markdown",
   "id": "90a03307",
   "metadata": {},
   "source": [
    "Consideremos un sistema compuesto de $N$ espines 1/2, descrito por el `Hamiltonian` ($\\hbar = 1$):"
   ]
  },
  {
   "cell_type": "markdown",
   "id": "ed85bdcf",
   "metadata": {},
   "source": [
    "\\begin{equation}\n",
    "\\hat{H} = \\sum_{i=1}^{N-1} J\\hat{\\sigma}^z_i \\hat{\\sigma}^z_{i+1} + \\sum_{i=1}^N g\\hat{\\sigma}^x_i,\n",
    "\\end{equation}"
   ]
  },
  {
   "cell_type": "markdown",
   "id": "edd8083a",
   "metadata": {},
   "source": [
    "donde el primer término corresponde a una interacción de vecinos cercanos en la dirección $z$, mientras que el segundo término genera dinámica coherente entre los espines que componen el sistema. El `Hamiltonian` anterior es el Hamiltoniano del modelo de Ising cuántico de ferromagnetismo en una dimensión."
   ]
  },
  {
   "cell_type": "markdown",
   "id": "176ac414",
   "metadata": {},
   "source": [
    "El estado de un objeto cuántico, usualmente se denota por el símbolo $| \\psi \\rangle$ en el marco de la segunda cuantización y esto es conocido como un `estado puro`. Sin embargo, los sistemas cuánticos no necesarimente se encuentran en estados puros, si no que puede estar en un `estado mixto`. Un `estado mixto` es una colección clásica de estados cuánticos y se representan por medio del `operador de la matrix de densidad`:\n",
    "\\begin{equation}\n",
    "\\hat{\\rho} = \\sum_i p_i |\\psi_i \\rangle \\langle \\psi_i |,\n",
    "\\end{equation}\n",
    "donde $p_i$ son valores de una distribución de probabilidad clásica, de manera tal que $\\sum_i p_i = 1$ para asegurar normalización. Al contrario de un `estado puro`, un `estado mixto` es un operador que se representa mediante una matriz en el espacio de Hilbert."
   ]
  },
  {
   "cell_type": "markdown",
   "id": "7635cde2",
   "metadata": {},
   "source": [
    "Lo más importante, es que la dinámica de un `estado mixto` se describe mediante la `ecuación de von Neumann`, al contrario de la dinámica de un `estado puro` que se describe mediante la `ecuación de Schrödinger`. La `ecuación de von Neumann` está dada por\n",
    "\\begin{equation}\n",
    "\\frac{d\\hat{\\rho}(t)}{dt} = -{\\rm{i}} [\\hat{H}, \\hat{\\rho}(t)],\n",
    "\\end{equation}\n",
    "para el caso especial de un Hamiltoniano que no depende del tiempo. [A, B] = AB - BA es el conmutador cuántico."
   ]
  },
  {
   "cell_type": "markdown",
   "id": "2d5093c3",
   "metadata": {},
   "source": [
    "Vamos a resolver la `ecuación de Von Neumann` para el sistema de espines que describen el modelo de Ising cuántico."
   ]
  },
  {
   "cell_type": "markdown",
   "id": "fedb7acb",
   "metadata": {},
   "source": [
    "Es mecánica cuántica, usualmente nos interesan los `valores de expectación`, que corresponden a los valores que podemos medir experimentalmente. Utilizando `estados mixtos`, los valores de expectación se calculan con la traza:\n",
    "\\begin{equation}\n",
    "\\langle \\hat{O} \\rangle (t) = {\\rm{Tr}}[\\hat{O}\\hat{\\rho}(t)].\n",
    "\\end{equation}"
   ]
  },
  {
   "cell_type": "markdown",
   "id": "831c92a4",
   "metadata": {},
   "source": [
    "### Caso para N espines"
   ]
  },
  {
   "cell_type": "markdown",
   "id": "3aa172f6",
   "metadata": {},
   "source": [
    "ESTO HAY QUE CAMBIARLO PARA EL CASO DE N ESPINES\n",
    "\n",
    "Para $N=2$, podemos construir el `Hamiltonian` denotado al inicio utilizando productos tensoriales de cada uno de los espacios de Hilbert que componen el sistema. Por ejemplo:\n",
    "\\begin{equation}\n",
    "\\hat{\\sigma}^z_1 = \\hat{\\sigma}^z \\otimes \\mathbb{1}, \\\\\n",
    "\\hat{\\sigma}^z_2 = \\mathbb{1} \\otimes \\hat{\\sigma}^z, \\\\\n",
    "\\hat{\\sigma}^x_1 = \\hat{\\sigma}^x \\otimes \\mathbb{1}, \\\\\n",
    "\\hat{\\sigma}^x_2 = \\mathbb{1} \\otimes \\hat{\\sigma}^x, \\\\\n",
    "\\end{equation}\n",
    "donde $\\otimes$ corresponde al producto tensorial y $\\mathbb{1}$ a la matrix identidad $2x2$.\n",
    "\n",
    "`NumPy` nos permite representar dichos operadores como una matrices en el espacio de Hilbert."
   ]
  },
  {
   "cell_type": "markdown",
   "id": "28581b21",
   "metadata": {},
   "source": [
    "Primero definimos las matrices de Pauli para un espín 1/2:"
   ]
  },
  {
   "cell_type": "code",
   "execution_count": 209,
   "id": "4510cc2c",
   "metadata": {},
   "outputs": [],
   "source": [
    "import qutip as qt # Librería QuTip\n",
    "import numpy as np # Librería Numpy"
   ]
  },
  {
   "cell_type": "code",
   "execution_count": 210,
   "id": "fade500e",
   "metadata": {},
   "outputs": [],
   "source": [
    "sx = qt.sigmax() # Pauli X\n",
    "sz = qt.sigmaz() # Pauli Z\n",
    "\n",
    "iden = qt.qeye(2) # Identidad de tamaño N"
   ]
  },
  {
   "cell_type": "markdown",
   "id": "0a62f581",
   "metadata": {},
   "source": [
    "Y con éstas podemos representar el `Hamiltonian` utilizando el producto tensorial (`np.kron`):"
   ]
  },
  {
   "cell_type": "code",
   "execution_count": 215,
   "id": "3a9d4481",
   "metadata": {},
   "outputs": [],
   "source": [
    "# Calcule el Hamiltoniano del model de Ising usando productos tensoriales de las matrices de Pauli\n",
    "\n",
    "# Esta rutina debe devolver una matrix 2^Nx2^N que corresponde al modelo de Ising para N espines\n",
    "\n",
    "def hamiltonian(J, g, N):\n",
    "    \n",
    "    sigma_z = []\n",
    "    sigma_x = []\n",
    "    \n",
    "    for i in range(N):\n",
    "        \n",
    "        sigma_zi = []\n",
    "        sigma_xi = []\n",
    "        \n",
    "        for j in range(i):\n",
    "            \n",
    "            sigma_zi.append(iden)  \n",
    "            sigma_xi.append(iden)\n",
    "        \n",
    "        sigma_zi.append(sz)   \n",
    "        sigma_xi.append(sx)\n",
    "        \n",
    "        for k in range(i+1,N):\n",
    "                \n",
    "            sigma_zi.append(iden)\n",
    "            sigma_xi.append(iden)\n",
    "        \n",
    "        #print(sigma_zi[0])\n",
    "        sigma_z.append(qt.tensor(sigma_zi)) # Producto tensorial de los elementos de sigma_zi\n",
    "        sigma_x.append(qt.tensor(sigma_xi))\n",
    "        \n",
    "\n",
    "    \n",
    "    h_first = 0.0\n",
    "    h_second = 0.0\n",
    "    \n",
    "    for i in range(N-1):\n",
    "\n",
    "        h_first += J*np.dot(sigma_z[i], sigma_z[i+1])\n",
    "        #print(np.dot(sigma_z[i], sigma_z[i+1]))\n",
    "\n",
    "    for i in range(N):\n",
    "\n",
    "        h_second += g*np.array(sigma_x[i])\n",
    "    \n",
    "    #print(h_first)\n",
    "    #print(h_second)\n",
    "    return np.real(h_first + h_second)\n"
   ]
  },
  {
   "cell_type": "markdown",
   "id": "8132ca0d",
   "metadata": {},
   "source": [
    "La matriz es una $2^Nx 2^N$ que describe la dinámica interna del sistema:"
   ]
  },
  {
   "cell_type": "code",
   "execution_count": 217,
   "id": "7f3e47c2",
   "metadata": {},
   "outputs": [
    {
     "name": "stdout",
     "output_type": "stream",
     "text": [
      "[[ 2.  1.  1.  0.]\n",
      " [ 1. -2.  0.  1.]\n",
      " [ 1.  0. -2.  1.]\n",
      " [ 0.  1.  1.  2.]]\n"
     ]
    }
   ],
   "source": [
    "N = 2\n",
    "print(hamiltonian(2.0, 1.0, N))"
   ]
  },
  {
   "cell_type": "code",
   "execution_count": null,
   "id": "9de7289f",
   "metadata": {},
   "outputs": [],
   "source": []
  }
 ],
 "metadata": {
  "kernelspec": {
   "display_name": "Python 3 (ipykernel)",
   "language": "python",
   "name": "python3"
  },
  "language_info": {
   "codemirror_mode": {
    "name": "ipython",
    "version": 3
   },
   "file_extension": ".py",
   "mimetype": "text/x-python",
   "name": "python",
   "nbconvert_exporter": "python",
   "pygments_lexer": "ipython3",
   "version": "3.7.12"
  },
  "toc": {
   "base_numbering": 1,
   "nav_menu": {},
   "number_sections": true,
   "sideBar": true,
   "skip_h1_title": false,
   "title_cell": "Table of Contents",
   "title_sidebar": "Contents",
   "toc_cell": false,
   "toc_position": {},
   "toc_section_display": true,
   "toc_window_display": false
  }
 },
 "nbformat": 4,
 "nbformat_minor": 5
}
